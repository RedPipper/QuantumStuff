{
 "cells": [
  {
   "cell_type": "code",
   "execution_count": 1,
   "metadata": {},
   "outputs": [],
   "source": [
    "from qiskit import QuantumCircuit, execute, Aer\n",
    "from qiskit.visualization import plot_histogram"
   ]
  },
  {
   "cell_type": "code",
   "execution_count": 2,
   "metadata": {},
   "outputs": [
    {
     "data": {
      "text/plain": [
       "<qiskit.circuit.instructionset.InstructionSet at 0x7fa3f7c6e990>"
      ]
     },
     "execution_count": 2,
     "metadata": {},
     "output_type": "execute_result"
    }
   ],
   "source": [
    "qc_ha = QuantumCircuit(4,2)\n",
    "qc_ha.barrier()"
   ]
  },
  {
   "cell_type": "code",
   "execution_count": 3,
   "metadata": {},
   "outputs": [
    {
     "data": {
      "text/plain": [
       "<qiskit.circuit.instructionset.InstructionSet at 0x7fa3f2329290>"
      ]
     },
     "execution_count": 3,
     "metadata": {},
     "output_type": "execute_result"
    }
   ],
   "source": [
    "qc_ha.cx(0,2)\n",
    "qc_ha.cx(1,2)\n",
    "qc_ha.barrier()"
   ]
  },
  {
   "cell_type": "code",
   "execution_count": 4,
   "metadata": {},
   "outputs": [
    {
     "data": {
      "text/plain": [
       "<qiskit.circuit.instructionset.InstructionSet at 0x7fa3f22cf150>"
      ]
     },
     "execution_count": 4,
     "metadata": {},
     "output_type": "execute_result"
    }
   ],
   "source": [
    "qc_ha.ccx(0,1,3)\n",
    "qc_ha.barrier()"
   ]
  },
  {
   "cell_type": "code",
   "execution_count": 5,
   "metadata": {},
   "outputs": [
    {
     "data": {
      "text/plain": [
       "<qiskit.circuit.instructionset.InstructionSet at 0x7fa3f22cff50>"
      ]
     },
     "execution_count": 5,
     "metadata": {},
     "output_type": "execute_result"
    }
   ],
   "source": [
    "qc_ha.measure(2,0)\n",
    "qc_ha.measure(3,1)"
   ]
  },
  {
   "cell_type": "code",
   "execution_count": 6,
   "metadata": {},
   "outputs": [
    {
     "data": {
      "text/html": [
       "<pre style=\"word-wrap: normal;white-space: pre;background: #fff0;line-height: 1.1;font-family: &quot;Courier New&quot;,Courier,monospace\">      ░            ░       ░       \n",
       "q_0: ─░───■────────░───■───░───────\n",
       "      ░   │        ░   │   ░       \n",
       "q_1: ─░───┼────■───░───■───░───────\n",
       "      ░ ┌─┴─┐┌─┴─┐ ░   │   ░ ┌─┐   \n",
       "q_2: ─░─┤ X ├┤ X ├─░───┼───░─┤M├───\n",
       "      ░ └───┘└───┘ ░ ┌─┴─┐ ░ └╥┘┌─┐\n",
       "q_3: ─░────────────░─┤ X ├─░──╫─┤M├\n",
       "      ░            ░ └───┘ ░  ║ └╥┘\n",
       "c_0: ═════════════════════════╩══╬═\n",
       "                                 ║ \n",
       "c_1: ════════════════════════════╩═\n",
       "                                   </pre>"
      ],
      "text/plain": [
       "      ░            ░       ░       \n",
       "q_0: ─░───■────────░───■───░───────\n",
       "      ░   │        ░   │   ░       \n",
       "q_1: ─░───┼────■───░───■───░───────\n",
       "      ░ ┌─┴─┐┌─┴─┐ ░   │   ░ ┌─┐   \n",
       "q_2: ─░─┤ X ├┤ X ├─░───┼───░─┤M├───\n",
       "      ░ └───┘└───┘ ░ ┌─┴─┐ ░ └╥┘┌─┐\n",
       "q_3: ─░────────────░─┤ X ├─░──╫─┤M├\n",
       "      ░            ░ └───┘ ░  ║ └╥┘\n",
       "c_0: ═════════════════════════╩══╬═\n",
       "                                 ║ \n",
       "c_1: ════════════════════════════╩═\n",
       "                                   "
      ]
     },
     "execution_count": 6,
     "metadata": {},
     "output_type": "execute_result"
    }
   ],
   "source": [
    "qc_ha.draw()"
   ]
  },
  {
   "cell_type": "code",
   "execution_count": 7,
   "metadata": {},
   "outputs": [
    {
     "data": {
      "image/png": "[encoded data removed]",
      "text/plain": [
       "<Figure size 504x360 with 1 Axes>"
      ]
     },
     "execution_count": 7,
     "metadata": {},
     "output_type": "execute_result"
    }
   ],
   "source": [
    "counts = execute(qc_ha, Aer.get_backend('qasm_simulator')).result().get_counts()\n",
    "plot_histogram(counts)"
   ]
  }
 ],
 "metadata": {
  "kernelspec": {
   "display_name": "Python 3",
   "language": "python",
   "name": "python3"
  },
  "language_info": {
   "codemirror_mode": {
    "name": "ipython",
    "version": 3
   },
   "file_extension": ".py",
   "mimetype": "text/x-python",
   "name": "python",
   "nbconvert_exporter": "python",
   "pygments_lexer": "ipython3",
   "version": "3.7.5"
  }
 },
 "nbformat": 4,
 "nbformat_minor": 4
}
